{
  "nbformat": 4,
  "nbformat_minor": 0,
  "metadata": {
    "colab": {
      "name": "30_days",
      "provenance": [],
      "collapsed_sections": [
        "Ap6TZXfMRPn8",
        "8r_1BET2o9-k",
        "4B_ommlbpSMr",
        "ZFWc7jQWpc6B",
        "P3trqAZupium",
        "m8WlIT6VpvRx",
        "TCLQZtWKp0j0",
        "kkvtfh--QcZo",
        "M7GCgRGmQqkQ",
        "a6LAAQB4Qz7b"
      ],
      "include_colab_link": true
    },
    "kernelspec": {
      "display_name": "Python 3",
      "name": "python3"
    }
  },
  "cells": [
    {
      "cell_type": "markdown",
      "metadata": {
        "id": "view-in-github",
        "colab_type": "text"
      },
      "source": [
        "<a href=\"https://colab.research.google.com/github/Ann-Helen/machinelearning_masterthesis/blob/master/30_days.ipynb\" target=\"_parent\"><img src=\"https://colab.research.google.com/assets/colab-badge.svg\" alt=\"Open In Colab\"/></a>"
      ]
    },
    {
      "cell_type": "markdown",
      "metadata": {
        "id": "Np960o80QBCv"
      },
      "source": [
        "# Data Preparation"
      ]
    },
    {
      "cell_type": "markdown",
      "metadata": {
        "id": "_1RTenDzQN2l"
      },
      "source": [
        "## File Management & Imports"
      ]
    },
    {
      "cell_type": "code",
      "metadata": {
        "id": "gRSQxjs9tKwf",
        "colab": {
          "base_uri": "https://localhost:8080/"
        },
        "outputId": "f53f3e32-0e3e-41b9-ae54-3246dc0ff7c3"
      },
      "source": [
        "from google.colab import drive\n",
        "drive.mount('/content/drive')"
      ],
      "execution_count": 466,
      "outputs": [
        {
          "output_type": "stream",
          "name": "stdout",
          "text": [
            "Drive already mounted at /content/drive; to attempt to forcibly remount, call drive.mount(\"/content/drive\", force_remount=True).\n"
          ]
        }
      ]
    },
    {
      "cell_type": "code",
      "metadata": {
        "id": "Mk1zdK2wMVrw",
        "colab": {
          "base_uri": "https://localhost:8080/"
        },
        "outputId": "0f854acc-af01-498a-8e47-6f864fe77569"
      },
      "source": [
        "# FILE MANAGEMENT (get .csv from drive)\n",
        "# GENERAL\n",
        "import numpy as np\n",
        "from numpy import hstack, array\n",
        "from numpy import asarray\n",
        "from numpy import split\n",
        "import pandas as pd\n",
        "\n",
        "!pip install keras.utils\n",
        "from math import sqrt\n",
        "from numpy import split\n",
        "from numpy import array\n",
        "from pandas import read_csv\n",
        "from sklearn.metrics import mean_squared_error\n",
        "from matplotlib import pyplot as plt\n",
        "from keras.models import Sequential\n",
        "from keras.layers import Dense\n",
        "from keras.layers import Flatten\n",
        "from keras.layers.convolutional import Conv1D\n",
        "from keras.layers.convolutional import MaxPooling1D\n",
        "import statsmodels.api as sm\n",
        "from statsmodels.graphics.tsaplots import plot_acf, plot_pacf\n",
        "from statsmodels.tsa.stattools import adfuller\n",
        "from statsmodels.tsa.seasonal import seasonal_decompose\n",
        "from statsmodels.tsa.arima_model import ARIMA\n",
        "from matplotlib.animation import FuncAnimation\n",
        "from math import sqrt\n",
        "import seaborn as sns\n",
        "\n",
        "# Visualizations\n",
        "import matplotlib.pyplot as plt\n",
        "# !pip install matplotlib\n",
        "#%matplotlib notebook\n",
        "%matplotlib inline\n",
        "sns.set_context(\"paper\")\n",
        "import warnings\n",
        "from scipy.stats import pearsonr, describe\n",
        "\n",
        "# KERAS\n",
        "%tensorflow_version 2.x\n",
        "import tensorflow\n",
        "print(tensorflow.__version__)\n",
        "!pip install keras.utils plot_model\n",
        "# from keras.utils import plot_model  # Converts a Keras model to dot format and save to a file\n",
        "# from keras.models import Model\n",
        "# from keras.layers import Input    # used to instantiate a Keras tensor\n",
        "from keras.layers import Dense    # Create layers\n",
        "from keras.layers import Flatten  # Flattens tensor to vector\n",
        "from keras.layers.convolutional import Conv1D # D convolution\n",
        "from keras.layers.convolutional import MaxPooling1D # Max pooling operation for X data\n",
        "from keras.layers import Dropout\n",
        "# from keras.layers.merge import concatenate\n",
        "from keras.models import Sequential\n",
        "from keras.callbacks import EarlyStopping, TerminateOnNaN\n",
        "\n",
        "from sklearn import preprocessing\n",
        "#from sklearn.preprocessing import MinMaxScaler"
      ],
      "execution_count": 467,
      "outputs": [
        {
          "output_type": "stream",
          "name": "stdout",
          "text": [
            "Requirement already satisfied: keras.utils in /usr/local/lib/python3.7/dist-packages (1.0.13)\n",
            "Requirement already satisfied: Keras>=2.1.5 in /usr/local/lib/python3.7/dist-packages (from keras.utils) (2.6.0)\n",
            "2.6.0\n",
            "Requirement already satisfied: keras.utils in /usr/local/lib/python3.7/dist-packages (1.0.13)\n",
            "Requirement already satisfied: plot_model in /usr/local/lib/python3.7/dist-packages (0.20)\n",
            "Requirement already satisfied: Keras>=2.1.5 in /usr/local/lib/python3.7/dist-packages (from keras.utils) (2.6.0)\n"
          ]
        }
      ]
    },
    {
      "cell_type": "markdown",
      "metadata": {
        "id": "Ap6TZXfMRPn8"
      },
      "source": [
        "## Version Checking"
      ]
    },
    {
      "cell_type": "code",
      "metadata": {
        "id": "B9U2N-icRN52",
        "colab": {
          "base_uri": "https://localhost:8080/"
        },
        "outputId": "68bb41c0-711d-43c6-ced4-f911acc2478c"
      },
      "source": [
        "# check the versions of key python libraries\n",
        "print('')\n",
        "print('============================================')\n",
        "print('Check the versions of key python libraries: ')\n",
        "# scipy\n",
        "import scipy\n",
        "print('scipy: %s' % scipy.__version__)\n",
        "# numpy\n",
        "import numpy\n",
        "print('numpy: %s' % numpy.__version__)\n",
        "# matplotlib\n",
        "import matplotlib\n",
        "print('matplotlib: %s' % matplotlib.__version__)\n",
        "# pandas\n",
        "import pandas\n",
        "print('pandas: %s' % pandas.__version__)\n",
        "# statsmodels\n",
        "import statsmodels\n",
        "print('statsmodels: %s' % statsmodels.__version__)\n",
        "# scikit-learn\n",
        "import sklearn\n",
        "print('sklearn: %s' % sklearn.__version__)"
      ],
      "execution_count": 468,
      "outputs": [
        {
          "output_type": "stream",
          "name": "stdout",
          "text": [
            "\n",
            "============================================\n",
            "Check the versions of key python libraries: \n",
            "scipy: 1.4.1\n",
            "numpy: 1.19.5\n",
            "matplotlib: 3.2.2\n",
            "pandas: 1.1.5\n",
            "statsmodels: 0.10.2\n",
            "sklearn: 0.22.2.post1\n"
          ]
        }
      ]
    },
    {
      "cell_type": "markdown",
      "metadata": {
        "id": "7WVIGasNQ4Os"
      },
      "source": [
        "# Multi-step Multichannel"
      ]
    },
    {
      "cell_type": "code",
      "metadata": {
        "id": "gQz856uYpMHM"
      },
      "source": [
        "############### MULTI-STEP MULTICHANNEL ##############\n",
        "# Here we test using all the time series.\n",
        "#\n",
        "# This is done by providing each one-dimensional time series to the model\n",
        "# as a separate channel of input (hence multi-channel).\n",
        "\n",
        "# The CNN will then use a separate kernel and read each unput sequence\n",
        "# onto a separate set of filter maps, essentially learning features from\n",
        "# each input time series variable.\n",
        "\n",
        "# This is helpful cause we have multiple features we need to do calculations\n",
        "# on, not just the one feature we want as output.\n",
        "######################################################"
      ],
      "execution_count": 469,
      "outputs": []
    },
    {
      "cell_type": "markdown",
      "metadata": {
        "id": "8r_1BET2o9-k"
      },
      "source": [
        "## split_dataset()"
      ]
    },
    {
      "cell_type": "code",
      "metadata": {
        "id": "oY14Jh1Uo7x_"
      },
      "source": [
        "# split a univariate dataset into train/test sets\n",
        "def split_dataset(data):\n",
        "  # split into standard weeks\n",
        "  print(len(data))\n",
        "  train, test = data[1:-284], data[-306:-6]#-328 -306 for BTC\n",
        "  # restructure into windows of weekly/monthly data\n",
        "  print(\"Pre-split train: \")\n",
        "  print(train.shape)\n",
        "  print(\"Pre-split test: \")\n",
        "  print(test.shape)\n",
        "  train = array(split(train, len(train)/30))#7\n",
        "  test = array(split(test, len(test)/30))\n",
        "  print(\"Post-split train: \")\n",
        "  print(train.shape)\n",
        "  print(\"Post-split test: \")\n",
        "  print(test.shape)\n",
        "  return train, test"
      ],
      "execution_count": 470,
      "outputs": []
    },
    {
      "cell_type": "markdown",
      "metadata": {
        "id": "4B_ommlbpSMr"
      },
      "source": [
        "## evaluate_forecasts()"
      ]
    },
    {
      "cell_type": "code",
      "metadata": {
        "id": "pu3bH1mSpPVy"
      },
      "source": [
        "# evaluate one or more weekly forecasts against expected values\n",
        "def evaluate_forecasts(actual, predicted):\n",
        "\tscores = list()\n",
        "\t# calculate an RMSE score for each day\n",
        "\tfor i in range(actual.shape[1]):\n",
        "\t\t# calculate mse\n",
        "\t\tmse = mean_squared_error(actual[:, i], predicted[:, i])\n",
        "\t\t# calculate rmse\n",
        "\t\trmse = sqrt(mse)\n",
        "\t\t# store\n",
        "\t\tscores.append(rmse)\n",
        "\t# calculate overall RMSE\n",
        "\ts = 0\n",
        "\tfor row in range(actual.shape[0]):\n",
        "\t\tfor col in range(actual.shape[1]):\n",
        "\t\t\ts += (actual[row, col] - predicted[row, col])**2\n",
        "\tscore = sqrt(s / (actual.shape[0] * actual.shape[1]))\n",
        "\treturn score, scores"
      ],
      "execution_count": 471,
      "outputs": []
    },
    {
      "cell_type": "markdown",
      "metadata": {
        "id": "ZFWc7jQWpc6B"
      },
      "source": [
        "## summarize_scores()"
      ]
    },
    {
      "cell_type": "code",
      "metadata": {
        "id": "vZk3zGg1phik"
      },
      "source": [
        "# summarize scores\n",
        "def summarize_scores(name, score, scores):\n",
        "\ts_scores = ', '.join(['%.1f' % s for s in scores])\n",
        "\tprint('%s: [%.3f] %s' % (name, score, s_scores))"
      ],
      "execution_count": 472,
      "outputs": []
    },
    {
      "cell_type": "markdown",
      "metadata": {
        "id": "P3trqAZupium"
      },
      "source": [
        "## to_supervised()"
      ]
    },
    {
      "cell_type": "code",
      "metadata": {
        "id": "wVg9mJj4plvy"
      },
      "source": [
        "# convert history into inputs and outputs\n",
        "def to_supervised(train, n_input, n_out=30):\n",
        "\t# flatten data\n",
        "\tdata = train.reshape((train.shape[0]*train.shape[1], train.shape[2]))\n",
        "\tX, y = list(), list()\n",
        "\tin_start = 0\n",
        "\t# step over the entire history one time step at a time\n",
        "\tfor _ in range(len(data)):\n",
        "\t\t# define the end of the input sequence\n",
        "\t\tin_end = in_start + n_input\n",
        "\t\tout_end = in_end + n_out\n",
        "\t\t# ensure we have enough data for this instance\n",
        "\t\tif out_end <= len(data):\n",
        "\t\t\t#This differs from univariate. Here we make sure to take the whole dataset.\n",
        "\t\t\tX.append(data[in_start:in_end, :])\n",
        "\t\t\ty.append(data[in_end:out_end, 0])\n",
        "\t\t# move along one time step\n",
        "\t\tin_start += 1\n",
        "\treturn array(X), array(y)"
      ],
      "execution_count": 473,
      "outputs": []
    },
    {
      "cell_type": "markdown",
      "metadata": {
        "id": "kf1zcnzkppC5"
      },
      "source": [
        "## build_model()"
      ]
    },
    {
      "cell_type": "code",
      "metadata": {
        "id": "3RAVcbnepsOP"
      },
      "source": [
        "# train the model\n",
        "def build_model(train, n_input):\n",
        "\tglobal CLEAN_RUN\n",
        "\tCLEAN_RUN = True\n",
        "\t# prepare data\n",
        "\ttrain_x, train_y = to_supervised(train, n_input)\n",
        " \t# define parameters\n",
        "\tverbose, epochs, batch_size = 1, 70, 30\n",
        "\tn_timesteps, n_features, n_outputs = train_x.shape[1], train_x.shape[2], train_y.shape[1]\n",
        "\t# define model\n",
        "\tkernel = 3\n",
        "\tmodel = Sequential()\n",
        "\tmodel.add(Conv1D(filters=3, kernel_size=kernel, activation='relu', input_shape=(n_timesteps,n_features)))\n",
        "\tmodel.add(Conv1D(filters=5, kernel_size=kernel,  activation='relu'))\n",
        "\tmodel.add(MaxPooling1D(pool_size=2, strides = 2))\n",
        "\tmodel.add(Conv1D(filters=7, kernel_size=kernel, activation='relu'))\n",
        "\tmodel.add(Conv1D(filters=15, kernel_size=kernel, activation='relu'))\n",
        "\tmodel.add(MaxPooling1D(pool_size=2, strides = 2))\n",
        "\tmodel.add(Conv1D(filters=32, kernel_size=kernel, activation='relu'))\n",
        "\tmodel.add(Conv1D(filters=50, kernel_size=kernel, activation='relu'))\n",
        "\tmodel.add(Conv1D(filters=64, kernel_size=kernel, activation='relu'))\n",
        "\tmodel.add(MaxPooling1D(pool_size=2, strides = 2))\n",
        "\t#model.add(Dropout(0.5))\n",
        "\tmodel.add(Flatten())\n",
        "\tmodel.add(Dense(100, activation='sigmoid')) #needed\n",
        "\tmodel.add(Dense(50))\n",
        "\tmodel.add(Dense(16))\n",
        "\tmodel.add(Dense(n_outputs))\n",
        "\tmodel.compile(loss='mse', optimizer='adam', metrics = ['accuracy','mean_squared_error'])\n",
        "\tprint(model.summary())\n",
        "\t# fit network\n",
        "\tcallbacks = [\n",
        "\t\tEarlyStopping(\n",
        "\t\t\t# Stop training when `val_loss` is no longer improving\n",
        "\t\t\tmonitor='val_loss',\n",
        "      # \"no longer improving\" being defined as \"no better than 1e-2 less\"\n",
        "      min_delta=1e-2,\n",
        "      # \"no longer improving\" defined as \"for at least 2 epochs\"\n",
        "      patience=10,\n",
        "      verbose=1,\n",
        "\t\t\t#restore_best_weights = True  # This could make it worse!\n",
        "    ),\n",
        "    TerminateOnNaN() # Stops training if loss = NaN\n",
        "  ]\n",
        "\tprint(n_features)\n",
        "\tif CLEAN_RUN:\n",
        "\t\t# Only allows training if training has not been run\n",
        "\t\thistory = model.fit(\n",
        "\t\t\t\ttrain_x, \n",
        "\t\t\t\ttrain_y, \n",
        "\t\t\t\tvalidation_split = 0.2, \n",
        "\t\t\t\tepochs=epochs, \n",
        "\t\t\t\tbatch_size=batch_size, \n",
        "\t\t\t\tverbose=verbose, \n",
        "\t\t\t\tcallbacks = callbacks)\n",
        "\t\tCLEAN_RUN = False # Prevents double-training\n",
        "\telif not CLEAN_RUN:\n",
        "\t\tprint(\"Session is not CLEAN_RUN. Use Colab 'Run all'!\")\n",
        "\tprint(\"\\n___MODEL LOSS___\")\n",
        "\tprint(\"Final MSE:   \", history.history['mean_squared_error'][-1])\n",
        "\tplt.plot(history.history['mean_squared_error']) #previously 'loss'\n",
        "\tplt.plot(history.history['val_mean_squared_error']) #previously 'val_loss'\n",
        "\tplt.title('Model loss')\n",
        "\tplt.ylabel('Loss value')\n",
        "\tplt.xlabel('Epoch')\n",
        "\tplt.legend(['Training', 'Keras.validation_split (verify training using x%)'], loc='best')\n",
        "\tplt.show()\n",
        "\treturn model"
      ],
      "execution_count": 474,
      "outputs": []
    },
    {
      "cell_type": "markdown",
      "metadata": {
        "id": "m8WlIT6VpvRx"
      },
      "source": [
        "## forecast()"
      ]
    },
    {
      "cell_type": "code",
      "metadata": {
        "id": "zMORyr-gpx06"
      },
      "source": [
        "# Make a forecast.\n",
        "def forecast(model, history, n_input):\n",
        "  # flatten data\n",
        "  data = array(history)\n",
        "  data = data.reshape((data.shape[0]*data.shape[1], data.shape[2]))\n",
        "  # retrieve last observations for input data\n",
        "  # For multivariate, make sure to use all features.\n",
        "  input_x = data[-n_input:, :]\n",
        "  # reshape into [1, n_input, n]\n",
        "  # We need to change the shape as well to take all features.\n",
        "  input_x = input_x.reshape((1, input_x.shape[0], input_x.shape[1]))\n",
        "  # forecast the next week\n",
        "  yhat = model.predict(input_x, verbose=0)\n",
        "  # we only want the vector forecast\n",
        "  yhat = yhat[0]\n",
        "  return yhat"
      ],
      "execution_count": 475,
      "outputs": []
    },
    {
      "cell_type": "markdown",
      "metadata": {
        "id": "TCLQZtWKp0j0"
      },
      "source": [
        "## evaluate_model()"
      ]
    },
    {
      "cell_type": "code",
      "metadata": {
        "id": "LGNslvG6p28T"
      },
      "source": [
        "# evaluate a single model\n",
        "def evaluate_model(train, test, n_input):\n",
        "  print(\"Fitting model...\")\n",
        "  # Replace NaN with mean values.\n",
        "  print(\"Fix NaN values in train...\")\n",
        "  col_mean = np.nanmean(train, axis=0)\n",
        "  inds = np.where(np.isnan(train))\n",
        "  train[inds] = np.take(col_mean, inds[1])\n",
        "  #train_has_nan = np.isnan(train)\n",
        "  #print(\"Does train contain NaN values? \", train_has_nan)\n",
        "  #test_has_nan = np.isnan(test)\n",
        "  #print(\"Does test contain NaN values? \", test_has_nan)\n",
        "  # fit model\n",
        "  model = build_model(train, n_input)\n",
        "\n",
        "  # history is a list of weekly data\n",
        "  history = [x for x in train]\n",
        "  # walk-forward validation over each week\n",
        "  predictions = list()\n",
        "  for i in range(len(test)):\n",
        "    #print(\"Round: \", i+1)\n",
        "    # predict the week\n",
        "    yhat_sequence = forecast(model, history, n_input)\n",
        "    # store the predictions\n",
        "    predictions.append(yhat_sequence)\n",
        "    # get real observation and add to history for predicting the next week\n",
        "    history.append(test[i, :])\n",
        "  # evaluate predictions days for each week\n",
        "  predictions = array(predictions)\n",
        "  score, scores = evaluate_forecasts(test[:, :, 0], predictions)\n",
        "  return score, scores"
      ],
      "execution_count": 476,
      "outputs": []
    },
    {
      "cell_type": "markdown",
      "metadata": {
        "id": "kkvtfh--QcZo"
      },
      "source": [
        "## Import & Normalising Data"
      ]
    },
    {
      "cell_type": "code",
      "metadata": {
        "id": "1LxiS8_OMN8c",
        "colab": {
          "base_uri": "https://localhost:8080/"
        },
        "outputId": "277ac8c0-9d06-4af0-8134-4d611128ea3c"
      },
      "source": [
        "# IMPORT & NORMALIZE DATA\n",
        "#URL = 'https://raw.githubusercontent.com/victordahl/dataset/master/MSFT_10yrs.csv'\n",
        "#URL = 'https://raw.githubusercontent.com/victordahl/dataset/master/MSFT_10yrs_open.csv'\n",
        "#dataset = read_csv('/content/drive/MyDrive/Thesis/BTC-USD.csv', header=0, infer_datetime_format=True, parse_dates=['Date'], index_col=['Date'])\n",
        "dataset = read_csv('/content/drive/MyDrive/Thesis/MSFT_10yrs.csv')\n",
        "#print(\"cvs type\", type(csvfile))\n",
        "\n",
        "#print(csvfile.iloc[:, 1:]) \n",
        "min_max_scaler = preprocessing.MinMaxScaler()\n",
        "\n",
        "# Normalize last five columns (excluding date in first columns)\n",
        "x_scaled = min_max_scaler.fit_transform(dataset.iloc[:, 1:])\n",
        "df = pd.DataFrame(x_scaled)\n",
        "# Rename all columns\n",
        "print(df)\n",
        "df.columns = [\"Open\",\"High\",\"Low\",\"Close\",\"Volume\"]\n",
        "df.fillna(df.mean(), inplace=True)\n",
        "\n",
        "# Derived features\n",
        "short_SMA = 50\n",
        "long_SMA = 200\n",
        "df[\"50SMA\"] = df[\"Open\"].rolling(window=short_SMA).mean()\n",
        "df[\"200SMA\"] = df[\"Open\"].rolling(window=long_SMA).mean()\n",
        "# Trim head of dataset to remove the NaN days in SMA feature head\n",
        "df = df.iloc[132:]#132\n"
      ],
      "execution_count": 477,
      "outputs": [
        {
          "output_type": "stream",
          "name": "stdout",
          "text": [
            "             0         1         2         3         4\n",
            "0     0.047923  0.049349  0.048369  0.047981  0.454772\n",
            "1     0.047207  0.047527  0.049652  0.048886  0.214303\n",
            "2     0.046909  0.047377  0.048976  0.047287  0.233660\n",
            "3     0.046730  0.045884  0.048186  0.047679  0.217432\n",
            "4     0.046789  0.048472  0.048492  0.048241  0.171891\n",
            "...        ...       ...       ...       ...       ...\n",
            "2512  0.902423  0.919823  0.917125  0.929628  0.164116\n",
            "2513  0.933457  0.936074  0.935263  0.939043  0.172830\n",
            "2514  0.916328  0.928606  0.929889  0.917678  0.111474\n",
            "2515  0.897649  0.898255  0.875658  0.873982  0.185935\n",
            "2516  0.885056  0.900227  0.904422  0.908383  0.103782\n",
            "\n",
            "[2517 rows x 5 columns]\n"
          ]
        }
      ]
    },
    {
      "cell_type": "markdown",
      "metadata": {
        "id": "M7GCgRGmQqkQ"
      },
      "source": [
        "## Visualisation of Data"
      ]
    },
    {
      "cell_type": "code",
      "metadata": {
        "id": "at45EgrSQxxL",
        "colab": {
          "base_uri": "https://localhost:8080/",
          "height": 0
        },
        "outputId": "c9497f41-bc87-447f-921f-929510df896a"
      },
      "source": [
        "# describe and visualize data\n",
        "print(df.iloc[:, 0:5].describe(),\"\\n\")\n",
        "print(df.iloc[:, 5:].describe(),\"\\n\")\n",
        "\n",
        "#tail = int(input(\"Print tail:\"))\n",
        "tail=500\n",
        "fig, ax1 = plt.subplots()\n",
        "#plt.title(\"$BTC-USD\")\n",
        "plt.title(\"$MSFT\")\n",
        "plt.xlabel(\"Date\")\n",
        "\n",
        "df_columns = []\n",
        "for i in df.columns:\n",
        "  if i != \"Volume\":\n",
        "    print(\"plotting {}...\".format(i))\n",
        "    plt.plot(df[i].tail(tail), label=i)\n",
        "    ax1.legend(loc=2)\n",
        "  elif i == \"Volume\":\n",
        "    # Put 'Volume' on second Y axis for better plot\n",
        "    print(\"plotting {}...\".format(i))\n",
        "    ax2 = ax1.twinx()\n",
        "    ax2.plot(df[i].tail(tail), 'k', label=i)\n",
        "    ax2.legend(loc=1)"
      ],
      "execution_count": 478,
      "outputs": [
        {
          "output_type": "stream",
          "name": "stdout",
          "text": [
            "              Open         High          Low        Close       Volume\n",
            "count  2385.000000  2385.000000  2385.000000  2385.000000  2385.000000\n",
            "mean      0.234333     0.236553     0.238422     0.237595     0.116364\n",
            "std       0.229894     0.232563     0.232488     0.232515     0.081384\n",
            "min       0.003939     0.004122     0.005619     0.004195     0.000000\n",
            "25%       0.050430     0.051261     0.052034     0.051904     0.062125\n",
            "50%       0.144486     0.145836     0.147001     0.146901     0.096201\n",
            "75%       0.365720     0.368008     0.373153     0.370934     0.151031\n",
            "max       1.000000     1.000000     1.000000     1.000000     1.000000 \n",
            "\n",
            "             50SMA       200SMA\n",
            "count  2385.000000  2318.000000\n",
            "mean      0.226017     0.206818\n",
            "std       0.222263     0.197972\n",
            "min       0.009808     0.015547\n",
            "25%       0.046178     0.041663\n",
            "50%       0.138495     0.133113\n",
            "75%       0.342271     0.304412\n",
            "max       0.872307     0.763745 \n",
            "\n",
            "plotting Open...\n",
            "plotting High...\n",
            "plotting Low...\n",
            "plotting Close...\n",
            "plotting Volume...\n",
            "plotting 50SMA...\n",
            "plotting 200SMA...\n"
          ]
        },
        {
          "output_type": "display_data",
          "data": {
            "image/png": "[encoded data removed]",
            "text/plain": [
              "<Figure size 432x288 with 2 Axes>"
            ]
          },
          "metadata": {
            "needs_background": "light"
          }
        }
      ]
    },
    {
      "cell_type": "markdown",
      "metadata": {
        "id": "a6LAAQB4Qz7b"
      },
      "source": [
        "## Dataset information"
      ]
    },
    {
      "cell_type": "code",
      "metadata": {
        "id": "mK9dVXCRMp-M"
      },
      "source": [
        "# DATASET\n",
        "SET_SIZE = 2100\n",
        "raw_train_set = df.iloc[0:SET_SIZE]\n",
        "raw_test_set = df.iloc[SET_SIZE:len(df)]\n",
        "assert(len(raw_train_set)==SET_SIZE), \"Something wrong with dataset separation...\"\n",
        "historic = []"
      ],
      "execution_count": 479,
      "outputs": []
    },
    {
      "cell_type": "markdown",
      "metadata": {
        "id": "M9hcAp_SLTAj"
      },
      "source": [
        "## Results..."
      ]
    },
    {
      "cell_type": "code",
      "metadata": {
        "id": "Pfw0-TidgubA",
        "colab": {
          "base_uri": "https://localhost:8080/",
          "height": 1000
        },
        "outputId": "c6d8b021-80ff-45f5-8e4a-32d4e34856a9"
      },
      "source": [
        "# Fix for eventual bugs with running in Colab.\n",
        "train, test = split_dataset(df.values)\n",
        "# evaluate model and get scores\n",
        "n_input = 60\n",
        "score, scores = evaluate_model(train, test, n_input)\n",
        "\n",
        "# summarize scores\n",
        "summarize_scores('cnn', score, scores)\n",
        "tail = df.iloc[:, :-6].tail(len(scores))\n",
        "tail = tail.to_numpy()\n",
        "tail = array(tail).reshape(-1, 1)\n",
        "volume = df['Volume'].tail(len(scores))\n",
        "volume = volume.to_numpy()\n",
        "volume = array(volume).reshape(-1, 1)\n",
        "\n",
        "# Reset scaler\n",
        "set_new_scaled = min_max_scaler.fit_transform(dataset.iloc[:, [1]])\n",
        "\n",
        "# Denormalize\n",
        "scores = array(scores).reshape(-1, 1)\n",
        "scores = min_max_scaler.inverse_transform(scores)\n",
        "historic = min_max_scaler.inverse_transform(tail)\n",
        "volume = min_max_scaler.inverse_transform(volume)\n",
        "compare_df = pd.DataFrame({\n",
        "    'Prediction': scores[0],\n",
        "    'Historic': historic[0]\n",
        "    })\n",
        "print(compare_df, \"\\nSimilarity:\",round(*(scores[0]/historic[0])*100,2),\"%\")\n",
        "#print(\"\\nPrediction:\")\n",
        "#print(prediction)\n",
        "\n",
        "# plot scores\n",
        "#days = ['sun', 'mon', 'tue', 'wed', 'thr', 'fri', 'sat', 'sun', 'mon', 'tue', 'wed', 'thr', 'fri', 'sat', 'sun', 'mon', 'tue', 'wed', 'thr', 'fri', 'sat', 'sun', 'mon', 'tue', 'wed', 'thr', 'fri', 'sat', 'sun', 'mon']\n",
        "#['1', '2', '3', '4', '5', '6', '7']#, '8', '9', '10', '11', '12', '13', '14','15', '16', '17', '18', '19', '20', '21', '22', '23', '24', '25', '26', '27', '28', '29', '30']\n",
        "plt.title(\"Prediction\")\n",
        "#plt.plot(scores, marker='o', label='Predicted close')\n",
        "plt.plot(scores,color='red', label='Predicted close')\n",
        "plt.plot(historic, color='green', label='Historic close')\n",
        "plt.plot(volume, label='Volume')\n",
        "plt.legend()\n",
        "plt.show()"
      ],
      "execution_count": 480,
      "outputs": [
        {
          "output_type": "stream",
          "name": "stdout",
          "text": [
            "2385\n",
            "Pre-split train: \n",
            "(2100, 7)\n",
            "Pre-split test: \n",
            "(300, 7)\n",
            "Post-split train: \n",
            "(70, 30, 7)\n",
            "Post-split test: \n",
            "(10, 30, 7)\n",
            "Fitting model...\n",
            "Fix NaN values in train...\n",
            "Model: \"sequential_31\"\n",
            "_________________________________________________________________\n",
            "Layer (type)                 Output Shape              Param #   \n",
            "=================================================================\n",
            "conv1d_130 (Conv1D)          (None, 58, 3)             66        \n",
            "_________________________________________________________________\n",
            "conv1d_131 (Conv1D)          (None, 56, 5)             50        \n",
            "_________________________________________________________________\n",
            "max_pooling1d_73 (MaxPooling (None, 28, 5)             0         \n",
            "_________________________________________________________________\n",
            "conv1d_132 (Conv1D)          (None, 26, 7)             112       \n",
            "_________________________________________________________________\n",
            "conv1d_133 (Conv1D)          (None, 24, 15)            330       \n",
            "_________________________________________________________________\n",
            "max_pooling1d_74 (MaxPooling (None, 12, 15)            0         \n",
            "_________________________________________________________________\n",
            "conv1d_134 (Conv1D)          (None, 10, 32)            1472      \n",
            "_________________________________________________________________\n",
            "conv1d_135 (Conv1D)          (None, 8, 50)             4850      \n",
            "_________________________________________________________________\n",
            "conv1d_136 (Conv1D)          (None, 6, 64)             9664      \n",
            "_________________________________________________________________\n",
            "max_pooling1d_75 (MaxPooling (None, 3, 64)             0         \n",
            "_________________________________________________________________\n",
            "flatten_31 (Flatten)         (None, 192)               0         \n",
            "_________________________________________________________________\n",
            "dense_124 (Dense)            (None, 100)               19300     \n",
            "_________________________________________________________________\n",
            "dense_125 (Dense)            (None, 50)                5050      \n",
            "_________________________________________________________________\n",
            "dense_126 (Dense)            (None, 16)                816       \n",
            "_________________________________________________________________\n",
            "dense_127 (Dense)            (None, 30)                510       \n",
            "=================================================================\n",
            "Total params: 42,220\n",
            "Trainable params: 42,220\n",
            "Non-trainable params: 0\n",
            "_________________________________________________________________\n",
            "None\n",
            "7\n",
            "Epoch 1/70\n",
            "54/54 [==============================] - 2s 13ms/step - loss: 0.0397 - accuracy: 0.0311 - mean_squared_error: 0.0397 - val_loss: 0.0830 - val_accuracy: 0.0422 - val_mean_squared_error: 0.0830\n",
            "Epoch 2/70\n",
            "54/54 [==============================] - 1s 9ms/step - loss: 0.0026 - accuracy: 0.0323 - mean_squared_error: 0.0026 - val_loss: 0.0159 - val_accuracy: 0.0422 - val_mean_squared_error: 0.0159\n",
            "Epoch 3/70\n",
            "54/54 [==============================] - 1s 9ms/step - loss: 5.8520e-04 - accuracy: 0.0361 - mean_squared_error: 5.8520e-04 - val_loss: 0.0085 - val_accuracy: 0.0422 - val_mean_squared_error: 0.0085\n",
            "Epoch 4/70\n",
            "54/54 [==============================] - 1s 10ms/step - loss: 3.9678e-04 - accuracy: 0.0317 - mean_squared_error: 3.9678e-04 - val_loss: 0.0075 - val_accuracy: 0.0422 - val_mean_squared_error: 0.0075\n",
            "Epoch 5/70\n",
            "54/54 [==============================] - 1s 10ms/step - loss: 3.6185e-04 - accuracy: 0.0342 - mean_squared_error: 3.6185e-04 - val_loss: 0.0058 - val_accuracy: 0.0422 - val_mean_squared_error: 0.0058\n",
            "Epoch 6/70\n",
            "54/54 [==============================] - 1s 9ms/step - loss: 3.1090e-04 - accuracy: 0.0305 - mean_squared_error: 3.1090e-04 - val_loss: 0.0055 - val_accuracy: 0.0422 - val_mean_squared_error: 0.0055\n",
            "Epoch 7/70\n",
            "54/54 [==============================] - 0s 9ms/step - loss: 2.9414e-04 - accuracy: 0.0442 - mean_squared_error: 2.9414e-04 - val_loss: 0.0049 - val_accuracy: 0.0422 - val_mean_squared_error: 0.0049\n",
            "Epoch 8/70\n",
            "54/54 [==============================] - 1s 10ms/step - loss: 2.5822e-04 - accuracy: 0.0442 - mean_squared_error: 2.5822e-04 - val_loss: 0.0046 - val_accuracy: 0.0422 - val_mean_squared_error: 0.0046\n",
            "Epoch 9/70\n",
            "54/54 [==============================] - 0s 9ms/step - loss: 2.4974e-04 - accuracy: 0.0454 - mean_squared_error: 2.4974e-04 - val_loss: 0.0042 - val_accuracy: 0.0422 - val_mean_squared_error: 0.0042\n",
            "Epoch 10/70\n",
            "54/54 [==============================] - 1s 9ms/step - loss: 2.3041e-04 - accuracy: 0.0466 - mean_squared_error: 2.3041e-04 - val_loss: 0.0038 - val_accuracy: 0.0422 - val_mean_squared_error: 0.0038\n",
            "Epoch 11/70\n",
            "54/54 [==============================] - 1s 9ms/step - loss: 2.1587e-04 - accuracy: 0.0541 - mean_squared_error: 2.1587e-04 - val_loss: 0.0042 - val_accuracy: 0.0422 - val_mean_squared_error: 0.0042\n",
            "Epoch 12/70\n",
            "54/54 [==============================] - 1s 10ms/step - loss: 2.1792e-04 - accuracy: 0.0498 - mean_squared_error: 2.1792e-04 - val_loss: 0.0042 - val_accuracy: 0.0422 - val_mean_squared_error: 0.0042\n",
            "Epoch 13/70\n",
            "54/54 [==============================] - 1s 10ms/step - loss: 2.0366e-04 - accuracy: 0.0491 - mean_squared_error: 2.0366e-04 - val_loss: 0.0045 - val_accuracy: 0.0521 - val_mean_squared_error: 0.0045\n",
            "Epoch 14/70\n",
            "54/54 [==============================] - 1s 10ms/step - loss: 1.9395e-04 - accuracy: 0.0460 - mean_squared_error: 1.9395e-04 - val_loss: 0.0034 - val_accuracy: 0.0422 - val_mean_squared_error: 0.0034\n",
            "Epoch 15/70\n",
            "54/54 [==============================] - 0s 9ms/step - loss: 1.8849e-04 - accuracy: 0.0504 - mean_squared_error: 1.8849e-04 - val_loss: 0.0042 - val_accuracy: 0.0447 - val_mean_squared_error: 0.0042\n",
            "Epoch 00015: early stopping\n",
            "\n",
            "___MODEL LOSS___\n",
            "Final MSE:    0.00018848941545002162\n"
          ]
        },
        {
          "output_type": "display_data",
          "data": {
            "image/png": "[encoded data removed]",
            "text/plain": [
              "<Figure size 432x288 with 1 Axes>"
            ]
          },
          "metadata": {
            "needs_background": "light"
          }
        },
        {
          "output_type": "stream",
          "name": "stdout",
          "text": [
            "cnn: [0.217] 0.2, 0.3, 0.3, 0.3, 0.2, 0.1, 0.2, 0.1, 0.2, 0.2, 0.2, 0.3, 0.2, 0.2, 0.2, 0.3, 0.3, 0.3, 0.2, 0.2, 0.2, 0.2, 0.2, 0.1, 0.1, 0.1, 0.2, 0.2, 0.2, 0.2\n",
            "   Prediction  Historic\n",
            "0   64.945024    157.13 \n",
            "Similarity: 41.33 %\n"
          ]
        },
        {
          "output_type": "display_data",
          "data": {
            "image/png": "[encoded data removed]",
            "text/plain": [
              "<Figure size 432x288 with 1 Axes>"
            ]
          },
          "metadata": {
            "needs_background": "light"
          }
        }
      ]
    }
  ]
}