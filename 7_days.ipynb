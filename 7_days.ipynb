{
  "nbformat": 4,
  "nbformat_minor": 0,
  "metadata": {
    "colab": {
      "name": "WIP",
      "provenance": [],
      "collapsed_sections": [
        "_1RTenDzQN2l",
        "Ap6TZXfMRPn8"
      ],
      "include_colab_link": true
    },
    "kernelspec": {
      "display_name": "Python 3",
      "name": "python3"
    }
  },
  "cells": [
    {
      "cell_type": "markdown",
      "metadata": {
        "id": "view-in-github",
        "colab_type": "text"
      },
      "source": [
        "<a href=\"https://colab.research.google.com/github/Ann-Helen/machinelearning_masterthesis/blob/master/7_days.ipynb\" target=\"_parent\"><img src=\"https://colab.research.google.com/assets/colab-badge.svg\" alt=\"Open In Colab\"/></a>"
      ]
    },
    {
      "cell_type": "markdown",
      "metadata": {
        "id": "Np960o80QBCv"
      },
      "source": [
        "# Data Preparation"
      ]
    },
    {
      "cell_type": "markdown",
      "metadata": {
        "id": "_1RTenDzQN2l"
      },
      "source": [
        "## File Management & Imports"
      ]
    },
    {
      "cell_type": "code",
      "metadata": {
        "colab": {
          "base_uri": "https://localhost:8080/"
        },
        "id": "gRSQxjs9tKwf",
        "outputId": "6370fb62-b8a7-4b7d-b0d0-18e76153bf33"
      },
      "source": [
        "from google.colab import drive\n",
        "drive.mount('/content/drive')"
      ],
      "execution_count": 270,
      "outputs": [
        {
          "output_type": "stream",
          "name": "stdout",
          "text": [
            "Drive already mounted at /content/drive; to attempt to forcibly remount, call drive.mount(\"/content/drive\", force_remount=True).\n"
          ]
        }
      ]
    },
    {
      "cell_type": "code",
      "metadata": {
        "id": "Mk1zdK2wMVrw",
        "colab": {
          "base_uri": "https://localhost:8080/"
        },
        "outputId": "a7cd82c6-2000-4e85-ca02-b671bc0a94c8"
      },
      "source": [
        "# FILE MANAGEMENT (get .csv from drive)\n",
        "# GENERAL\n",
        "import numpy as np\n",
        "from numpy import hstack, array\n",
        "from numpy import asarray\n",
        "from numpy import split\n",
        "import pandas as pd\n",
        "\n",
        "from math import sqrt\n",
        "from numpy import split\n",
        "from numpy import array\n",
        "from pandas import read_csv\n",
        "from sklearn.metrics import mean_squared_error\n",
        "from matplotlib import pyplot as plt\n",
        "from keras.models import Sequential\n",
        "from keras.layers import Dense\n",
        "from keras.layers import Flatten\n",
        "from keras.layers.convolutional import Conv1D\n",
        "from keras.layers.convolutional import MaxPooling1D\n",
        "import statsmodels.api as sm\n",
        "from statsmodels.graphics.tsaplots import plot_acf, plot_pacf\n",
        "from statsmodels.tsa.stattools import adfuller\n",
        "from statsmodels.tsa.seasonal import seasonal_decompose\n",
        "from statsmodels.tsa.arima_model import ARIMA\n",
        "from matplotlib.animation import FuncAnimation\n",
        "from math import sqrt\n",
        "import seaborn as sns\n",
        "\n",
        "# Visualizations\n",
        "import matplotlib.pyplot as plt\n",
        "# !pip install matplotlib\n",
        "#%matplotlib notebook\n",
        "%matplotlib inline\n",
        "sns.set_context(\"paper\")\n",
        "import warnings\n",
        "from scipy.stats import pearsonr, describe\n",
        "\n",
        "# KERAS\n",
        "%tensorflow_version 2.x\n",
        "import tensorflow\n",
        "print(tensorflow.__version__)\n",
        "!pip install keras.utils plot_model\n",
        "# from keras.utils import plot_model  # Converts a Keras model to dot format and save to a file\n",
        "# from keras.models import Model\n",
        "# from keras.layers import Input    # used to instantiate a Keras tensor\n",
        "from keras.layers import Dense    # Create layers\n",
        "from keras.layers import Flatten  # Flattens tensor to vector\n",
        "from keras.layers.convolutional import Conv1D # D convolution\n",
        "from keras.layers.convolutional import MaxPooling1D # Max pooling operation for X data\n",
        "from keras.layers import Dropout\n",
        "# from keras.layers.merge import concatenate\n",
        "from keras.models import Sequential\n",
        "from keras.callbacks import EarlyStopping, TerminateOnNaN\n",
        "\n",
        "from sklearn import preprocessing\n",
        "#from sklearn.preprocessing import MinMaxScaler\n",
        "\n"
      ],
      "execution_count": 271,
      "outputs": [
        {
          "output_type": "stream",
          "name": "stdout",
          "text": [
            "2.6.0\n",
            "Requirement already satisfied: keras.utils in /usr/local/lib/python3.7/dist-packages (1.0.13)\n",
            "Requirement already satisfied: plot_model in /usr/local/lib/python3.7/dist-packages (0.20)\n",
            "Requirement already satisfied: Keras>=2.1.5 in /usr/local/lib/python3.7/dist-packages (from keras.utils) (2.6.0)\n"
          ]
        }
      ]
    },
    {
      "cell_type": "markdown",
      "metadata": {
        "id": "Ap6TZXfMRPn8"
      },
      "source": [
        "## Version Checking"
      ]
    },
    {
      "cell_type": "code",
      "metadata": {
        "id": "B9U2N-icRN52",
        "colab": {
          "base_uri": "https://localhost:8080/"
        },
        "outputId": "bb3c07f9-48b7-4341-90ee-9c328f731dcf"
      },
      "source": [
        "# check the versions of key python libraries\n",
        "print('')\n",
        "print('============================================')\n",
        "print('Check the versions of key python libraries: ')\n",
        "# scipy\n",
        "import scipy\n",
        "print('scipy: %s' % scipy.__version__)\n",
        "# numpy\n",
        "import numpy\n",
        "print('numpy: %s' % numpy.__version__)\n",
        "# matplotlib\n",
        "import matplotlib\n",
        "print('matplotlib: %s' % matplotlib.__version__)\n",
        "# pandas\n",
        "import pandas\n",
        "print('pandas: %s' % pandas.__version__)\n",
        "# statsmodels\n",
        "import statsmodels\n",
        "print('statsmodels: %s' % statsmodels.__version__)\n",
        "# scikit-learn\n",
        "import sklearn\n",
        "print('sklearn: %s' % sklearn.__version__)\n",
        "\n",
        "# Fix for the 'Run after'-bug caused by Colab\n",
        "CLEAN_RUN = True"
      ],
      "execution_count": 272,
      "outputs": [
        {
          "output_type": "stream",
          "name": "stdout",
          "text": [
            "\n",
            "============================================\n",
            "Check the versions of key python libraries: \n",
            "scipy: 1.4.1\n",
            "numpy: 1.19.5\n",
            "matplotlib: 3.2.2\n",
            "pandas: 1.1.5\n",
            "statsmodels: 0.10.2\n",
            "sklearn: 0.22.2.post1\n"
          ]
        }
      ]
    },
    {
      "cell_type": "markdown",
      "metadata": {
        "id": "7WVIGasNQ4Os"
      },
      "source": [
        "# Multi-step Multichannel"
      ]
    },
    {
      "cell_type": "code",
      "metadata": {
        "id": "gQz856uYpMHM"
      },
      "source": [
        "############### MULTI-STEP MULTICHANNEL ##############\n",
        "# Here we test using all the time series.\n",
        "#\n",
        "# This is done by providing each one-dimensional time series to the model\n",
        "# as a separate channel of input (hence multi-channel).\n",
        "\n",
        "# The CNN will then use a separate kernel and read each unput sequence\n",
        "# onto a separate set of filter maps, essentially learning features from\n",
        "# each input time series variable.\n",
        "\n",
        "# This is helpful cause we have multiple features we need to do calculations\n",
        "# on, not just the one feature we want as output.\n",
        "######################################################"
      ],
      "execution_count": 273,
      "outputs": []
    },
    {
      "cell_type": "markdown",
      "metadata": {
        "id": "8r_1BET2o9-k"
      },
      "source": [
        "## split_dataset()"
      ]
    },
    {
      "cell_type": "code",
      "metadata": {
        "id": "oY14Jh1Uo7x_"
      },
      "source": [
        "# split a univariate dataset into train/test sets\n",
        "def split_dataset(data):\n",
        "  # split into standard weeks\n",
        "\n",
        "  print(len(data))\n",
        "\n",
        "  train, test = data[1:-328], data[-328:-6]#328\n",
        "  # restructure into windows of weekly/monthly data\n",
        "  print(\"Pre-split train: \")\n",
        "  print(train.shape)\n",
        "  train = array(split(train, len(train)/7))#7\n",
        "  test = array(split(test, len(test)/7))\n",
        "  print(\"Post-split train: \")\n",
        "  print(train.shape)\n",
        "  print(\"Post-split test: \")\n",
        "  print(test.shape)\n",
        "  return train, test"
      ],
      "execution_count": 274,
      "outputs": []
    },
    {
      "cell_type": "markdown",
      "metadata": {
        "id": "4B_ommlbpSMr"
      },
      "source": [
        "## evaluate_forecasts()"
      ]
    },
    {
      "cell_type": "code",
      "metadata": {
        "id": "pu3bH1mSpPVy"
      },
      "source": [
        "# evaluate one or more weekly forecasts against expected values\n",
        "def evaluate_forecasts(actual, predicted):\n",
        "\tscores = list()\n",
        "\t# calculate an RMSE score for each day\n",
        "\tfor i in range(actual.shape[1]):\n",
        "\t\t# calculate mse\n",
        "\t\tmse = mean_squared_error(actual[:, i], predicted[:, i])\n",
        "\t\t# calculate rmse\n",
        "\t\trmse = sqrt(mse)\n",
        "\t\t# store\n",
        "\t\tscores.append(rmse)\n",
        "\t# calculate overall RMSE\n",
        "\ts = 0\n",
        "\tfor row in range(actual.shape[0]):\n",
        "\t\tfor col in range(actual.shape[1]):\n",
        "\t\t\ts += (actual[row, col] - predicted[row, col])**2\n",
        "\tscore = sqrt(s / (actual.shape[0] * actual.shape[1]))\n",
        "\treturn score, scores"
      ],
      "execution_count": 275,
      "outputs": []
    },
    {
      "cell_type": "markdown",
      "metadata": {
        "id": "ZFWc7jQWpc6B"
      },
      "source": [
        "## summarize_scores()"
      ]
    },
    {
      "cell_type": "code",
      "metadata": {
        "id": "vZk3zGg1phik"
      },
      "source": [
        "# summarize scores\n",
        "def summarize_scores(name, score, scores):\n",
        "\ts_scores = ', '.join(['%.1f' % s for s in scores])\n",
        "\tprint('%s: [%.3f] %s' % (name, score, s_scores))"
      ],
      "execution_count": 276,
      "outputs": []
    },
    {
      "cell_type": "markdown",
      "metadata": {
        "id": "P3trqAZupium"
      },
      "source": [
        "## to_supervised()"
      ]
    },
    {
      "cell_type": "code",
      "metadata": {
        "id": "wVg9mJj4plvy"
      },
      "source": [
        "# convert history into inputs and outputs\n",
        "def to_supervised(train, n_input, n_out=7):\n",
        "\t# flatten data\n",
        "\tdata = train.reshape((train.shape[0]*train.shape[1], train.shape[2]))\n",
        "\tX, y = list(), list()\n",
        "\tin_start = 0\n",
        "\t# step over the entire history one time step at a time\n",
        "\tfor _ in range(len(data)):\n",
        "\t\t# define the end of the input sequence\n",
        "\t\tin_end = in_start + n_input\n",
        "\t\tout_end = in_end + n_out\n",
        "\t\t# ensure we have enough data for this instance\n",
        "\t\tif out_end <= len(data):\n",
        "\t\t\t#This differs from univariate. Here we make sure to take the whole dataset.\n",
        "\t\t\tX.append(data[in_start:in_end, :])\n",
        "\t\t\ty.append(data[in_end:out_end, 0])\n",
        "\t\t# move along one time step\n",
        "\t\tin_start += 1\n",
        "\treturn array(X), array(y)"
      ],
      "execution_count": 277,
      "outputs": []
    },
    {
      "cell_type": "markdown",
      "metadata": {
        "id": "kf1zcnzkppC5"
      },
      "source": [
        "## build_model()"
      ]
    },
    {
      "cell_type": "code",
      "metadata": {
        "id": "3RAVcbnepsOP"
      },
      "source": [
        "# train the model\n",
        "def build_model(train, n_input):\n",
        "\t# prepare data\n",
        "\ttrain_x, train_y = to_supervised(train, n_input)\n",
        "\t# define parameters\n",
        "\tverbose, epochs, batch_size = 0, 70, 16\n",
        "\tn_timesteps, n_features, n_outputs = train_x.shape[1], train_x.shape[2], train_y.shape[1]\n",
        "\t# define model\n",
        "\tmodel = Sequential()\n",
        "\tmodel.add(Conv1D(filters=32, kernel_size=3, activation='relu', input_shape=(n_timesteps,n_features)))\n",
        "\tmodel.add(Conv1D(filters=32, kernel_size=3, activation='relu'))\n",
        "\tmodel.add(MaxPooling1D(pool_size=2))\n",
        "\tmodel.add(Conv1D(filters=16, kernel_size=3, activation='relu'))\n",
        "\tmodel.add(MaxPooling1D(pool_size=2))\n",
        "\tmodel.add(Flatten())\n",
        "\tmodel.add(Dense(100, activation='relu'))\n",
        "\tmodel.add(Dense(n_outputs))\n",
        "\tmodel.compile(loss='mse', optimizer='adam')\n",
        "\t# fit network\n",
        "\tmodel.fit(train_x, train_y, epochs=epochs, batch_size=batch_size, verbose=verbose)\n",
        "\treturn model"
      ],
      "execution_count": 278,
      "outputs": []
    },
    {
      "cell_type": "markdown",
      "metadata": {
        "id": "m8WlIT6VpvRx"
      },
      "source": [
        "## forecast()"
      ]
    },
    {
      "cell_type": "code",
      "metadata": {
        "id": "zMORyr-gpx06"
      },
      "source": [
        "# Make a forecast.\n",
        "def forecast(model, history, n_input):\n",
        "  # flatten data\n",
        "  data = array(history)\n",
        "  data = data.reshape((data.shape[0]*data.shape[1], data.shape[2]))\n",
        "  # retrieve last observations for input data\n",
        "  # For multivariate, make sure to use all features.\n",
        "  input_x = data[-n_input:, :]\n",
        "  # reshape into [1, n_input, n]\n",
        "  # We need to change the shape as well to take all features.\n",
        "  input_x = input_x.reshape((1, input_x.shape[0], input_x.shape[1]))\n",
        "  # forecast the next week\n",
        "  yhat = model.predict(input_x, verbose=0)\n",
        "  # we only want the vector forecast\n",
        "  yhat = yhat[0]\n",
        "  return yhat"
      ],
      "execution_count": 279,
      "outputs": []
    },
    {
      "cell_type": "markdown",
      "metadata": {
        "id": "TCLQZtWKp0j0"
      },
      "source": [
        "## evaluate_model()"
      ]
    },
    {
      "cell_type": "code",
      "metadata": {
        "id": "LGNslvG6p28T"
      },
      "source": [
        "# evaluate a single model\n",
        "def evaluate_model(train, test, n_input):\n",
        "  print(\"Fitting model...\")\n",
        "  # Replace NaN with mean values.\n",
        "  print(\"Fix NaN values in train...\")\n",
        "  col_mean = np.nanmean(train, axis=0)\n",
        "  inds = np.where(np.isnan(train))\n",
        "  train[inds] = np.take(col_mean, inds[1])\n",
        "  #train_has_nan = np.isnan(train)\n",
        "  #print(\"Does train contain NaN values? \", train_has_nan)\n",
        "  #test_has_nan = np.isnan(test)\n",
        "  #print(\"Does test contain NaN values? \", test_has_nan)\n",
        "  # fit model\n",
        "  model = build_model(train, n_input)\n",
        "  # history is a list of weekly data\n",
        "  history = [x for x in train]\n",
        "  # walk-forward validation over each week\n",
        "  predictions = list()\n",
        "  for i in range(len(test)):\n",
        "    #print(\"Round: \", i+1)\n",
        "    # predict the week\n",
        "    yhat_sequence = forecast(model, history, n_input)\n",
        "    # store the predictions\n",
        "    predictions.append(yhat_sequence)\n",
        "    # get real observation and add to history for predicting the next week\n",
        "    history.append(test[i, :])\n",
        "  # evaluate predictions days for each week\n",
        "  predictions = array(predictions)\n",
        "  score, scores = evaluate_forecasts(test[:, :, 0], predictions)\n",
        "  return score, scores"
      ],
      "execution_count": 280,
      "outputs": []
    },
    {
      "cell_type": "markdown",
      "metadata": {
        "id": "kkvtfh--QcZo"
      },
      "source": [
        "## Import & Normalising Data"
      ]
    },
    {
      "cell_type": "code",
      "metadata": {
        "id": "1LxiS8_OMN8c",
        "colab": {
          "base_uri": "https://localhost:8080/"
        },
        "outputId": "a1bfef0f-8c5d-406b-8906-7d3ac7d5454f"
      },
      "source": [
        "# IMPORT & NORMALIZE DATA\n",
        "#URL = 'https://raw.githubusercontent.com/victordahl/dataset/master/MSFT_10yrs.csv'\n",
        "#URL = 'https://raw.githubusercontent.com/victordahl/dataset/master/MSFT_10yrs_open.csv'\n",
        "dataset = read_csv('/content/drive/MyDrive/Thesis/BTC-USD.csv', header=0, \n",
        "                   infer_datetime_format=True, parse_dates=['Date'], index_col=['Date'])\n",
        "#print(\"cvs type\", type(csvfile))\n",
        "\n",
        "#print(csvfile.iloc[:, 1:]) \n",
        "min_max_scaler = preprocessing.MinMaxScaler()\n",
        "\n",
        "# Normalize last five columns (excluding date in first columns)\n",
        "x_scaled = min_max_scaler.fit_transform(dataset.iloc[:, 1:])\n",
        "df = pd.DataFrame(x_scaled)\n",
        "# Rename all columns\n",
        "print(df)\n",
        "df.columns = [\"Open\",\"High\",\"Low\",\"Close\",\"Volume\"]\n",
        "df.fillna(df.mean(), inplace=True)\n",
        "\n",
        "# Derived features\n",
        "short_SMA = 50\n",
        "long_SMA = 200\n",
        "df[\"50SMA\"] = df[\"Open\"].rolling(window=short_SMA).mean()\n",
        "df[\"200SMA\"] = df[\"Open\"].rolling(window=long_SMA).mean()\n",
        "# Trim head of dataset to remove the NaN days in SMA feature head\n",
        "df = df.iloc[132:]\n"
      ],
      "execution_count": 281,
      "outputs": [
        {
          "output_type": "stream",
          "name": "stdout",
          "text": [
            "             0         1         2         3         4\n",
            "0     0.007218  0.007273  0.007202  0.000060  0.007202\n",
            "1     0.007043  0.006641  0.006684  0.000098  0.006684\n",
            "2     0.006596  0.006181  0.006217  0.000108  0.006217\n",
            "3     0.006526  0.006267  0.006439  0.000105  0.006439\n",
            "4     0.006358  0.006320  0.006280  0.000076  0.006280\n",
            "...        ...       ...       ...       ...       ...\n",
            "2556  0.747526  0.756797  0.752453  0.090505  0.752453\n",
            "2557  0.742501  0.752826  0.744330  0.081853  0.744330\n",
            "2558  0.000000  0.000000  0.000000  0.000000  0.000000\n",
            "2559  0.745083  0.754229  0.744215  0.076838  0.744215\n",
            "2560  0.728757  0.687373  0.684753  0.117749  0.684753\n",
            "\n",
            "[2561 rows x 5 columns]\n"
          ]
        }
      ]
    },
    {
      "cell_type": "markdown",
      "metadata": {
        "id": "M7GCgRGmQqkQ"
      },
      "source": [
        "## Visualisation of Data"
      ]
    },
    {
      "cell_type": "code",
      "metadata": {
        "id": "at45EgrSQxxL",
        "colab": {
          "base_uri": "https://localhost:8080/",
          "height": 760
        },
        "outputId": "ab17264a-37a3-4e83-9030-8dee0986a13b"
      },
      "source": [
        "# describe and visualize data\n",
        "print(df.iloc[:, 0:5].describe(),\"\\n\")\n",
        "print(df.iloc[:, 5:].describe(),\"\\n\")\n",
        "\n",
        "#tail = int(input(\"Print tail:\"))\n",
        "tail=2500\n",
        "fig, ax1 = plt.subplots()\n",
        "plt.title(\"$MSFT 10yrs\")\n",
        "plt.xlabel(\"Date\")\n",
        "\n",
        "df_columns = []\n",
        "for i in df.columns:\n",
        "  if i != \"Volume\":\n",
        "    print(\"plotting {}...\".format(i))\n",
        "    plt.plot(df[i].tail(tail), label=i)\n",
        "    ax1.legend(loc=2)\n",
        "  elif i == \"Volume\":\n",
        "    # Put 'Volume' on second Y axis for better plot\n",
        "    print(\"plotting {}...\".format(i))\n",
        "    ax2 = ax1.twinx()\n",
        "    ax2.plot(df[i].tail(tail), label=i)\n",
        "    ax2.legend(loc=1)"
      ],
      "execution_count": 282,
      "outputs": [
        {
          "output_type": "stream",
          "name": "stdout",
          "text": [
            "              Open         High          Low        Close       Volume\n",
            "count  2429.000000  2429.000000  2429.000000  2429.000000  2429.000000\n",
            "mean      0.149524     0.146920     0.148793     0.040436     0.148793\n",
            "std       0.212817     0.207939     0.211278     0.057297     0.211278\n",
            "min       0.000000     0.000000     0.000000     0.000000     0.000000\n",
            "25%       0.010223     0.010393     0.010319     0.000263     0.010319\n",
            "50%       0.098231     0.097955     0.098232     0.014244     0.098232\n",
            "75%       0.153427     0.153471     0.153674     0.064075     0.153674\n",
            "max       1.000000     1.000000     1.000000     1.000000     1.000000 \n",
            "\n",
            "             50SMA       200SMA\n",
            "count  2429.000000  2362.000000\n",
            "mean      0.142311     0.125391\n",
            "std       0.202030     0.169122\n",
            "min       0.003635     0.003841\n",
            "25%       0.009833     0.009442\n",
            "50%       0.097449     0.092898\n",
            "75%       0.151113     0.142561\n",
            "max       0.902281     0.732227 \n",
            "\n",
            "plotting Open...\n",
            "plotting High...\n",
            "plotting Low...\n",
            "plotting Close...\n",
            "plotting Volume...\n",
            "plotting 50SMA...\n",
            "plotting 200SMA...\n"
          ]
        },
        {
          "output_type": "display_data",
          "data": {
            "image/png": "[encoded data removed]",
            "text/plain": [
              "<Figure size 432x288 with 2 Axes>"
            ]
          },
          "metadata": {
            "needs_background": "light"
          }
        }
      ]
    },
    {
      "cell_type": "markdown",
      "metadata": {
        "id": "a6LAAQB4Qz7b"
      },
      "source": [
        "## Dataset information"
      ]
    },
    {
      "cell_type": "code",
      "metadata": {
        "id": "mK9dVXCRMp-M"
      },
      "source": [
        "# DATASET\n",
        "SET_SIZE = 2100\n",
        "raw_train_set = df.iloc[0:SET_SIZE]\n",
        "raw_test_set = df.iloc[SET_SIZE:len(df)]\n",
        "assert(len(raw_train_set)==SET_SIZE), \"Something wrong with dataset separation...\"\n",
        "historic = []"
      ],
      "execution_count": 283,
      "outputs": []
    },
    {
      "cell_type": "markdown",
      "metadata": {
        "id": "vVYhxrdJp-4F"
      },
      "source": [
        "## Results..."
      ]
    },
    {
      "cell_type": "code",
      "metadata": {
        "id": "Pfw0-TidgubA",
        "colab": {
          "base_uri": "https://localhost:8080/",
          "height": 453
        },
        "outputId": "0a4c98ba-ed97-482d-c38e-576600de30bc"
      },
      "source": [
        "train, test = split_dataset(df.values)\n",
        "# evaluate model and get scores\n",
        "n_input = 14\n",
        "score, scores = evaluate_model(train, test, n_input)\n",
        "# summarize scores\n",
        "summarize_scores('cnn', score, scores)\n",
        "# plot scores\n",
        "days = ['sun', 'mon', 'tue', 'wed', 'thr', 'fri', 'sat']#['1', '2', '3', '4', '5', '6', '7']#, '8', '9', '10', '11', '12', '13', '14','15', '16', '17', '18', '19', '20', '21', '22', '23', '24', '25', '26', '27', '28', '29', '30']\n",
        "plt.title(\"$MSFT prediction\")\n",
        "plt.plot(days, scores, marker='o', label='Predicted close')\n",
        "plt.legend()\n",
        "plt.show()"
      ],
      "execution_count": 284,
      "outputs": [
        {
          "output_type": "stream",
          "name": "stdout",
          "text": [
            "2429\n",
            "Pre-split train: \n",
            "(2100, 7)\n",
            "Post-split train: \n",
            "(300, 7, 7)\n",
            "Post-split test: \n",
            "(46, 7, 7)\n",
            "Fitting model...\n",
            "Fix NaN values in train...\n",
            "cnn: [0.490] 0.4, 0.5, 0.5, 0.5, 0.5, 0.5, 0.5\n"
          ]
        },
        {
          "output_type": "display_data",
          "data": {
            "image/png": "[encoded data removed]",
            "text/plain": [
              "<Figure size 432x288 with 1 Axes>"
            ]
          },
          "metadata": {
            "needs_background": "light"
          }
        }
      ]
    }
  ]
}